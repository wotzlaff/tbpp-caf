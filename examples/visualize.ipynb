{
 "cells": [
  {
   "cell_type": "code",
   "execution_count": null,
   "metadata": {},
   "outputs": [],
   "source": [
    "import tbpp_caf"
   ]
  },
  {
   "cell_type": "code",
   "execution_count": null,
   "metadata": {},
   "outputs": [],
   "source": [
    "inst = tbpp_caf.Instance([1, 2, 5, 6, 9], [8, 10, 6, 9, 10], [1, 2, 5, 2, 4], 5)\n",
    "tbpp_caf.visualize(inst)"
   ]
  }
 ],
 "metadata": {
  "kernelspec": {
   "display_name": "grb",
   "language": "python",
   "name": "python3"
  },
  "language_info": {
   "codemirror_mode": {
    "name": "ipython",
    "version": 3
   },
   "file_extension": ".py",
   "mimetype": "text/x-python",
   "name": "python",
   "nbconvert_exporter": "python",
   "pygments_lexer": "ipython3",
   "version": "3.10.6"
  },
  "orig_nbformat": 4,
  "vscode": {
   "interpreter": {
    "hash": "9ddbe2be32f2ebc49d62274655dfea5f6b2e7eb2fd55ce8f538a5004aad1cfb7"
   }
  }
 },
 "nbformat": 4,
 "nbformat_minor": 2
}
